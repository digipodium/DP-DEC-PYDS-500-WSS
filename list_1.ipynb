{
 "cells": [
  {
   "attachments": {},
   "cell_type": "markdown",
   "metadata": {},
   "source": [
    "## Data structures\n",
    "- string\n",
    "- **list**\n",
    "- tuple\n",
    "- set\n",
    "- **dictionary**"
   ]
  },
  {
   "attachments": {},
   "cell_type": "markdown",
   "metadata": {},
   "source": [
    "List\n",
    "- ordered, indexed, mutable, allows duplicate elements\n",
    "- heterogeneous (mixed type of values can be stored)\n",
    "- can be nested\n",
    "- `list()` is used for creating a list from other sequences\n",
    "- represented by `[ ]`"
   ]
  },
  {
   "attachments": {},
   "cell_type": "markdown",
   "metadata": {},
   "source": [
    "create, access, modify, methods"
   ]
  },
  {
   "cell_type": "code",
   "execution_count": 60,
   "metadata": {},
   "outputs": [
    {
     "name": "stdout",
     "output_type": "stream",
     "text": [
      "[] []\n",
      "<class 'list'> <class 'list'>\n"
     ]
    }
   ],
   "source": [
    "x = [] # empty list\n",
    "y = list() # empty list\n",
    "print(x, y)\n",
    "print(type(x), type(y))"
   ]
  },
  {
   "cell_type": "code",
   "execution_count": 61,
   "metadata": {},
   "outputs": [
    {
     "name": "stdout",
     "output_type": "stream",
     "text": [
      "[1, 2, 3, 4, 5] ['ajay', 'vijay', 'sanjay']\n"
     ]
    }
   ],
   "source": [
    "x = [1,2,3,4,5] # numbers\n",
    "names= ['ajay','vijay','sanjay']\n",
    "print(x, names)"
   ]
  },
  {
   "cell_type": "code",
   "execution_count": 62,
   "metadata": {},
   "outputs": [
    {
     "name": "stdout",
     "output_type": "stream",
     "text": [
      "['Apple', 100, 'Banana', 40, 'Orange', 50]\n"
     ]
    }
   ],
   "source": [
    "mixed = ['Apple', 100, 'Banana', 40, 'Orange', 50]\n",
    "print(mixed)"
   ]
  },
  {
   "cell_type": "code",
   "execution_count": 63,
   "metadata": {},
   "outputs": [
    {
     "name": "stdout",
     "output_type": "stream",
     "text": [
      "[1, 1, 1, 1, 1, 1, 1, 1, 1, 1]\n"
     ]
    }
   ],
   "source": [
    "ones = [1] * 10 # duplicate 1 10 times and store in list\n",
    "print(ones)"
   ]
  },
  {
   "cell_type": "code",
   "execution_count": 64,
   "metadata": {},
   "outputs": [
    {
     "name": "stdout",
     "output_type": "stream",
     "text": [
      "['H', 'o', 'm', 'o', 'S', 'a', 'p', 'i', 'e', 'n', 's']\n"
     ]
    }
   ],
   "source": [
    "word = 'HomoSapiens'\n",
    "chrs = list(word)\n",
    "print(chrs)"
   ]
  },
  {
   "cell_type": "code",
   "execution_count": 65,
   "metadata": {},
   "outputs": [
    {
     "name": "stdout",
     "output_type": "stream",
     "text": [
      "Apple\n",
      "100\n",
      "Banana\n",
      "40\n",
      "Orange\n",
      "50\n"
     ]
    }
   ],
   "source": [
    "for i in mixed:\n",
    "    print(i)"
   ]
  },
  {
   "cell_type": "code",
   "execution_count": 66,
   "metadata": {},
   "outputs": [
    {
     "name": "stdout",
     "output_type": "stream",
     "text": [
      "101\n",
      "102\n",
      "103\n",
      "104\n",
      "105\n"
     ]
    }
   ],
   "source": [
    "for i in x:\n",
    "    print(i + 100)"
   ]
  },
  {
   "cell_type": "code",
   "execution_count": 67,
   "metadata": {},
   "outputs": [],
   "source": [
    "books = ['Book1', 'Book2', 'Book3']"
   ]
  },
  {
   "cell_type": "code",
   "execution_count": 68,
   "metadata": {},
   "outputs": [],
   "source": [
    "books[0] = 'Steelheart' # update 0 idx with new value"
   ]
  },
  {
   "cell_type": "code",
   "execution_count": 69,
   "metadata": {},
   "outputs": [
    {
     "name": "stdout",
     "output_type": "stream",
     "text": [
      "['Steelheart', 'The Final Empire', 'The Way of Kings']\n"
     ]
    }
   ],
   "source": [
    "books[1] = \"The Final Empire\"\n",
    "books[2] = 'The Way of Kings'\n",
    "print(books)"
   ]
  },
  {
   "attachments": {},
   "cell_type": "markdown",
   "metadata": {},
   "source": [
    "- `list_var.append(single_element)`\n",
    "- `list_var.remove(single_element)`"
   ]
  },
  {
   "cell_type": "code",
   "execution_count": 70,
   "metadata": {},
   "outputs": [
    {
     "name": "stdout",
     "output_type": "stream",
     "text": [
      "['Steelheart', 'The Final Empire', 'The Way of Kings', 'The Hero of Ages']\n"
     ]
    }
   ],
   "source": [
    "books.append(\"The Hero of Ages\")\n",
    "print(books)"
   ]
  },
  {
   "cell_type": "code",
   "execution_count": 71,
   "metadata": {},
   "outputs": [
    {
     "name": "stdout",
     "output_type": "stream",
     "text": [
      "['Steelheart', 'The Final Empire', 'The Way of Kings']\n"
     ]
    }
   ],
   "source": [
    "books.remove('The Hero of Ages') # removes first occurence of the value\n",
    "print(books)"
   ]
  },
  {
   "cell_type": "code",
   "execution_count": 72,
   "metadata": {},
   "outputs": [
    {
     "name": "stdout",
     "output_type": "stream",
     "text": [
      "['\\nThe Shawshank Redemption', ' \\t\\nThe Godfather', '\\nThe Dark Knight\\t', '\\t\\nThe Godfather: Part II', '\\n12 Angry Men', \"\\t\\t\\nSchindler's List\", '\\t\\t\\nThe Lord of the Rings: The Return of the King', '\\t\\nPulp Fiction', '\\t\\nThe Lord of the Rings: The Fellowship of the Ring', '\\nThe Good', ' the Bad and the Ugly', '\\t\\t\\nForrest Gump', '\\t\\nFight Club', '\\nThe Lord of the Rings: The Two Towers', '\\nInception', '\\nStar Wars: Episode V - The Empire Strikes Back', '\\t\\nThe Matrix', '\\nGoodFellas', '\\n']\n"
     ]
    }
   ],
   "source": [
    "movies='''\n",
    "The Shawshank Redemption, \t\n",
    "The Godfather,\n",
    "The Dark Knight\t,\t\n",
    "The Godfather: Part II,\n",
    "12 Angry Men,\t\t\n",
    "Schindler's List,\t\t\n",
    "The Lord of the Rings: The Return of the King,\t\n",
    "Pulp Fiction,\t\n",
    "The Lord of the Rings: The Fellowship of the Ring,\n",
    "The Good, the Bad and the Ugly,\t\t\n",
    "Forrest Gump,\t\n",
    "Fight Club,\n",
    "The Lord of the Rings: The Two Towers,\n",
    "Inception,\n",
    "Star Wars: Episode V - The Empire Strikes Back,\t\n",
    "The Matrix,\n",
    "GoodFellas,\n",
    "'''.split(',')\n",
    "print(movies)"
   ]
  },
  {
   "cell_type": "code",
   "execution_count": 73,
   "metadata": {},
   "outputs": [],
   "source": [
    "# movies =[movie.strip() for movie in movies if len(movie.strip())> 0]"
   ]
  },
  {
   "cell_type": "code",
   "execution_count": 74,
   "metadata": {},
   "outputs": [
    {
     "name": "stdout",
     "output_type": "stream",
     "text": [
      "['The Shawshank Redemption', 'The Godfather', 'The Dark Knight', 'The Godfather: Part II', '12 Angry Men', \"Schindler's List\", 'The Lord of the Rings: The Return of the King', 'Pulp Fiction', 'The Lord of the Rings: The Fellowship of the Ring', 'The Good', 'the Bad and the Ugly', 'Forrest Gump', 'Fight Club', 'The Lord of the Rings: The Two Towers', 'Inception', 'Star Wars: Episode V - The Empire Strikes Back', 'The Matrix', 'GoodFellas']\n"
     ]
    }
   ],
   "source": [
    "print(movies)"
   ]
  },
  {
   "cell_type": "code",
   "execution_count": 75,
   "metadata": {},
   "outputs": [
    {
     "data": {
      "text/plain": [
       "['The Shawshank Redemption', 'The Godfather', 'The Dark Knight']"
      ]
     },
     "execution_count": 75,
     "metadata": {},
     "output_type": "execute_result"
    }
   ],
   "source": [
    "movies[:3] # first 3 elements"
   ]
  },
  {
   "cell_type": "code",
   "execution_count": 76,
   "metadata": {},
   "outputs": [
    {
     "name": "stdout",
     "output_type": "stream",
     "text": [
      "['', '', '', '', '']\n"
     ]
    }
   ],
   "source": [
    "books = []\n",
    "for i in range(5):\n",
    "    books.append(input())\n",
    "print(books)\n"
   ]
  },
  {
   "cell_type": "code",
   "execution_count": 77,
   "metadata": {},
   "outputs": [
    {
     "data": {
      "text/plain": [
       "['The Shawshank Redemption',\n",
       " 'The Godfather',\n",
       " 'The Dark Knight',\n",
       " 'The Godfather: Part II',\n",
       " '12 Angry Men',\n",
       " \"Schindler's List\",\n",
       " 'The Lord of the Rings: The Return of the King',\n",
       " 'Pulp Fiction',\n",
       " 'The Lord of the Rings: The Fellowship of the Ring',\n",
       " 'The Good',\n",
       " 'the Bad and the Ugly',\n",
       " 'Forrest Gump',\n",
       " 'Fight Club']"
      ]
     },
     "execution_count": 77,
     "metadata": {},
     "output_type": "execute_result"
    }
   ],
   "source": [
    "movies[:-5] # everything except not last 5 elements"
   ]
  },
  {
   "cell_type": "code",
   "execution_count": 81,
   "metadata": {},
   "outputs": [
    {
     "name": "stdout",
     "output_type": "stream",
     "text": [
      "[\"Schindler's List\", 'The Lord of the Rings: The Return of the King', 'Pulp Fiction', 'The Lord of the Rings: The Fellowship of the Ring', 'The Good', 'the Bad and the Ugly', 'Forrest Gump', 'Fight Club']\n"
     ]
    }
   ],
   "source": [
    "print(movies[5:-5]) # start at idx 5 and stop at idx -5"
   ]
  },
  {
   "cell_type": "code",
   "execution_count": 82,
   "metadata": {},
   "outputs": [
    {
     "name": "stdout",
     "output_type": "stream",
     "text": [
      "['GoodFellas', 'The Matrix', 'Star Wars: Episode V - The Empire Strikes Back', 'Inception', 'The Lord of the Rings: The Two Towers', 'Fight Club', 'Forrest Gump', 'the Bad and the Ugly', 'The Good', 'The Lord of the Rings: The Fellowship of the Ring', 'Pulp Fiction', 'The Lord of the Rings: The Return of the King', \"Schindler's List\", '12 Angry Men', 'The Godfather: Part II', 'The Dark Knight', 'The Godfather', 'The Shawshank Redemption']\n"
     ]
    }
   ],
   "source": [
    "print(movies[::-1]) # reverse the list"
   ]
  },
  {
   "cell_type": "code",
   "execution_count": 80,
   "metadata": {},
   "outputs": [
    {
     "name": "stdout",
     "output_type": "stream",
     "text": [
      "['The Shawshank Redemption', 'The Dark Knight', '12 Angry Men', 'The Lord of the Rings: The Return of the King', 'The Lord of the Rings: The Fellowship of the Ring', 'the Bad and the Ugly', 'Fight Club', 'Inception', 'The Matrix']\n"
     ]
    }
   ],
   "source": [
    "print(movies[::2]) # every 2nd element"
   ]
  },
  {
   "attachments": {},
   "cell_type": "markdown",
   "metadata": {},
   "source": [
    "#### methods - 11\n",
    "- adding\n",
    "    - append()\n",
    "    - insert()\n",
    "    - extend()\n",
    "- remove\n",
    "    - remove()\n",
    "    - pop()\n",
    "    - clear()\n",
    "- utility\n",
    "    - index()\n",
    "    - count()\n",
    "    - sort()\n",
    "    - reverse()\n",
    "    - copy()"
   ]
  },
  {
   "cell_type": "code",
   "execution_count": 85,
   "metadata": {},
   "outputs": [
    {
     "name": "stdout",
     "output_type": "stream",
     "text": [
      "[1, 2, 3]\n"
     ]
    }
   ],
   "source": [
    "x= [1,2]\n",
    "x.append(3)\n",
    "print(x)"
   ]
  },
  {
   "cell_type": "code",
   "execution_count": 86,
   "metadata": {},
   "outputs": [
    {
     "name": "stdout",
     "output_type": "stream",
     "text": [
      "[1, 1.5, 2, 3]\n"
     ]
    }
   ],
   "source": [
    "x.insert(1, 1.5) # insert 1.5 at idx 1 and shift rest of the elements\n",
    "print(x)"
   ]
  },
  {
   "cell_type": "code",
   "execution_count": 87,
   "metadata": {},
   "outputs": [
    {
     "name": "stdout",
     "output_type": "stream",
     "text": [
      "[1, 1.5, 2, 2.5, 3]\n"
     ]
    }
   ],
   "source": [
    "x.insert(3, 2.5)\n",
    "print(x)"
   ]
  },
  {
   "cell_type": "code",
   "execution_count": 93,
   "metadata": {},
   "outputs": [
    {
     "data": {
      "text/plain": [
       "[1, 2, 3, 4, 1, 2, 5]"
      ]
     },
     "execution_count": 93,
     "metadata": {},
     "output_type": "execute_result"
    }
   ],
   "source": [
    "a = [1,2,3]\n",
    "b = [4,1,2,5]\n",
    "a + b"
   ]
  },
  {
   "cell_type": "code",
   "execution_count": 94,
   "metadata": {},
   "outputs": [
    {
     "name": "stdout",
     "output_type": "stream",
     "text": [
      "[1, 2, 3, 4, 1, 2, 5]\n"
     ]
    }
   ],
   "source": [
    "a.extend(b)\n",
    "print(a)"
   ]
  },
  {
   "attachments": {},
   "cell_type": "markdown",
   "metadata": {},
   "source": [
    "- WAP to calculate the sum of all the elements in a list\n",
    "- wap to find the largest number in a list\n",
    "- wap to find the smallest number in a list\n",
    "- wap to find the second largest number in a list"
   ]
  },
  {
   "cell_type": "code",
   "execution_count": null,
   "metadata": {},
   "outputs": [],
   "source": []
  },
  {
   "cell_type": "code",
   "execution_count": null,
   "metadata": {},
   "outputs": [],
   "source": []
  },
  {
   "cell_type": "code",
   "execution_count": null,
   "metadata": {},
   "outputs": [],
   "source": []
  },
  {
   "cell_type": "code",
   "execution_count": null,
   "metadata": {},
   "outputs": [],
   "source": []
  },
  {
   "cell_type": "code",
   "execution_count": null,
   "metadata": {},
   "outputs": [],
   "source": []
  }
 ],
 "metadata": {
  "kernelspec": {
   "display_name": "base",
   "language": "python",
   "name": "python3"
  },
  "language_info": {
   "codemirror_mode": {
    "name": "ipython",
    "version": 3
   },
   "file_extension": ".py",
   "mimetype": "text/x-python",
   "name": "python",
   "nbconvert_exporter": "python",
   "pygments_lexer": "ipython3",
   "version": "3.9.13"
  },
  "orig_nbformat": 4,
  "vscode": {
   "interpreter": {
    "hash": "203ec5af3e26acf3e3c83a4183d4b4efe59642f60e2721ccf6236536a59ece46"
   }
  }
 },
 "nbformat": 4,
 "nbformat_minor": 2
}
