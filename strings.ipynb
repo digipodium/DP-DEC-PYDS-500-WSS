{
 "cells": [
  {
   "attachments": {},
   "cell_type": "markdown",
   "metadata": {},
   "source": [
    "Basics"
   ]
  },
  {
   "cell_type": "code",
   "execution_count": 4,
   "metadata": {},
   "outputs": [
    {
     "name": "stdout",
     "output_type": "stream",
     "text": [
      "this is \"some kind\" of message\n",
      "This is one line\n",
      "This is another line\n",
      "THis is the last line\n",
      "One is a number, two is another number\n",
      "three is the last number\n"
     ]
    }
   ],
   "source": [
    "a = 'Hello' # string\n",
    "a = \"Hello\" # string\n",
    "word = 'this is \"some kind\" of message'\n",
    "print(word)\n",
    "# multiline string\n",
    "message = '''This is one line\n",
    "This is another line\n",
    "THis is the last line'''\n",
    "\n",
    "message2 = \"\"\"One is a number\n",
    "Two is another number\n",
    "Three is the last number\"\"\"\n",
    "print(message)\n",
    "print(message2)"
   ]
  },
  {
   "attachments": {},
   "cell_type": "markdown",
   "metadata": {},
   "source": [
    "String types"
   ]
  },
  {
   "cell_type": "code",
   "execution_count": 13,
   "metadata": {},
   "outputs": [
    {
     "name": "stdout",
     "output_type": "stream",
     "text": [
      "this is John\n",
      "this is \\na \\nraw \\nstring\n",
      "C:\\Users\\ZAID\\Downloads\\Friends Forever.pptx\n",
      "b'Hello'\n"
     ]
    }
   ],
   "source": [
    "name = 'John'\n",
    "message = f'this is {name}'\n",
    "raw_string = r'this is \\na \\nraw \\nstring'\n",
    "address = r'C:\\Users\\ZAID\\Downloads\\Friends Forever.pptx'\n",
    "binary = b'Hello' # byte string\n",
    "print(message)\n",
    "print(raw_string)\n",
    "print(address)\n",
    "print(binary)"
   ]
  },
  {
   "attachments": {},
   "cell_type": "markdown",
   "metadata": {},
   "source": [
    "string duplication"
   ]
  },
  {
   "cell_type": "code",
   "execution_count": 29,
   "metadata": {},
   "outputs": [
    {
     "data": {
      "text/plain": [
       "'_____________________________________________'"
      ]
     },
     "execution_count": 29,
     "metadata": {},
     "output_type": "execute_result"
    }
   ],
   "source": [
    "\"___\" * 15"
   ]
  },
  {
   "attachments": {},
   "cell_type": "markdown",
   "metadata": {},
   "source": [
    "string properties\n",
    "- strings are *indexed*\n",
    "- strings are *immutable*\n",
    "- strings are *iterable*"
   ]
  },
  {
   "cell_type": "code",
   "execution_count": 36,
   "metadata": {},
   "outputs": [
    {
     "name": "stdout",
     "output_type": "stream",
     "text": [
      "10\n",
      "Z\n",
      "a\n",
      "l\n",
      "i\n",
      "Z a i d\n"
     ]
    }
   ],
   "source": [
    "name = \"Zaid Kamil\"\n",
    "print(len(name))\n",
    "print(name[0]) # first element\n",
    "print(name[1]) # second element\n",
    "print(name[-1]) # last element\n",
    "print(name[-2]) # second last element\n",
    "print(name[0], name[1], name[2], name[3]) # first four elements\n",
    "# print(name[10]) # index out of range\n",
    "# print(name=[10]) # stupidity"
   ]
  },
  {
   "cell_type": "code",
   "execution_count": 39,
   "metadata": {},
   "outputs": [
    {
     "ename": "TypeError",
     "evalue": "'str' object does not support item assignment",
     "output_type": "error",
     "traceback": [
      "\u001b[1;31m---------------------------------------------------------------------------\u001b[0m",
      "\u001b[1;31mTypeError\u001b[0m                                 Traceback (most recent call last)",
      "\u001b[1;32mc:\\Users\\ZAID\\Documents\\coding\\DP DEC PYDS 500 WSS\\strings.ipynb Cell 9\u001b[0m in \u001b[0;36m<cell line: 1>\u001b[1;34m()\u001b[0m\n\u001b[1;32m----> <a href='vscode-notebook-cell:/c%3A/Users/ZAID/Documents/coding/DP%20DEC%20PYDS%20500%20WSS/strings.ipynb#X11sZmlsZQ%3D%3D?line=0'>1</a>\u001b[0m name[\u001b[39m1\u001b[39m] \u001b[39m=\u001b[39m \u001b[39m'\u001b[39m\u001b[39mf\u001b[39m\u001b[39m'\u001b[39m\n",
      "\u001b[1;31mTypeError\u001b[0m: 'str' object does not support item assignment"
     ]
    }
   ],
   "source": [
    "# name[1] = 'f' # strings are immutable and will throw an error"
   ]
  },
  {
   "attachments": {},
   "cell_type": "markdown",
   "metadata": {},
   "source": [
    "slicing\n",
    "`str[start : end : step]`"
   ]
  },
  {
   "cell_type": "code",
   "execution_count": 44,
   "metadata": {},
   "outputs": [
    {
     "name": "stdout",
     "output_type": "stream",
     "text": [
      "S\n",
      "Shake\n",
      "pear\n",
      "William\n"
     ]
    }
   ],
   "source": [
    "name = \"William Shakespeare\"\n",
    "print(name[8])\n",
    "print(name[8:13]) # slicing\n",
    "# pear\n",
    "print(name[-5:-1])\n",
    "print(name[:7]) # from start to 7th index"
   ]
  },
  {
   "cell_type": "code",
   "execution_count": 52,
   "metadata": {},
   "outputs": [
    {
     "name": "stdout",
     "output_type": "stream",
     "text": [
      "Journey\n",
      "Before\n",
      "Destination\n"
     ]
    }
   ],
   "source": [
    "sentence = \"Journey Before Destination\"\n",
    "print(sentence[:7])\n",
    "print(sentence[8:14])\n",
    "print(sentence[15:])"
   ]
  },
  {
   "cell_type": "code",
   "execution_count": 57,
   "metadata": {},
   "outputs": [
    {
     "name": "stdout",
     "output_type": "stream",
     "text": [
      "Ecyts\n",
      "ulpu\n",
      "sutpylcuE\n"
     ]
    }
   ],
   "source": [
    "word = \"Euclyptus\"\n",
    "print(word[::2]) # step size (even indexed elements)\n",
    "print(word[1::2]) # step size (odd indexed elements)\n",
    "print(word[::-1]) # reverse the string"
   ]
  },
  {
   "cell_type": "code",
   "execution_count": 63,
   "metadata": {},
   "outputs": [
    {
     "name": "stdout",
     "output_type": "stream",
     "text": [
      "1000000.00\n"
     ]
    }
   ],
   "source": [
    "amount = \"$1000000.00\"\n",
    "amount = amount[1:]\n",
    "print(amount)"
   ]
  },
  {
   "cell_type": "code",
   "execution_count": 65,
   "metadata": {},
   "outputs": [
    {
     "name": "stdout",
     "output_type": "stream",
     "text": [
      "Vikram\n",
      "Prasad\n"
     ]
    }
   ],
   "source": [
    "name = \"Dr. Vikram Prasad\"\n",
    "fname = name[4:10]\n",
    "lname = name[-6:]\n",
    "print(fname)\n",
    "print(lname)"
   ]
  },
  {
   "cell_type": "code",
   "execution_count": 68,
   "metadata": {},
   "outputs": [
    {
     "name": "stdout",
     "output_type": "stream",
     "text": [
      "python\n"
     ]
    }
   ],
   "source": [
    "word = '__python__' # clean this word\n",
    "print(word[2:-2]) # skip first 2 and last 2 elements"
   ]
  },
  {
   "attachments": {},
   "cell_type": "markdown",
   "metadata": {},
   "source": [
    "functions in string\n",
    "- formatting\n",
    "- find and replace\n",
    "- validation\n",
    "- utilities"
   ]
  },
  {
   "cell_type": "code",
   "execution_count": 3,
   "metadata": {},
   "outputs": [
    {
     "data": {
      "text/plain": [
       "'TOMATO IS A FRUIT'"
      ]
     },
     "execution_count": 3,
     "metadata": {},
     "output_type": "execute_result"
    }
   ],
   "source": [
    "word = \"Tomato is a fruit\"\n",
    "word.upper()"
   ]
  },
  {
   "cell_type": "code",
   "execution_count": 5,
   "metadata": {},
   "outputs": [
    {
     "name": "stdout",
     "output_type": "stream",
     "text": [
      "TOMATO IS A FRUIT\n"
     ]
    }
   ],
   "source": [
    "word = word.upper()\n",
    "print(word)"
   ]
  },
  {
   "cell_type": "code",
   "execution_count": 9,
   "metadata": {},
   "outputs": [
    {
     "name": "stdout",
     "output_type": "stream",
     "text": [
      "TOMATO IS A FRUIT\n",
      "tomato is a fruit\n",
      "Tomato Is A Fruit\n",
      "Tomato is a fruit\n",
      "tomato is a fruit\n",
      "tomato is a fruit\n",
      "hEllO\n"
     ]
    }
   ],
   "source": [
    "print(word)\n",
    "print(word.lower())\n",
    "print(word.title())\n",
    "print(word.capitalize())\n",
    "print(word.swapcase())\n",
    "print(word.casefold())\n",
    "print(\"HeLLo\".swapcase())"
   ]
  },
  {
   "cell_type": "code",
   "execution_count": 13,
   "metadata": {},
   "outputs": [
    {
     "data": {
      "text/plain": [
       "7"
      ]
     },
     "execution_count": 13,
     "metadata": {},
     "output_type": "execute_result"
    }
   ],
   "source": [
    "word.find('IS')"
   ]
  },
  {
   "cell_type": "code",
   "execution_count": 14,
   "metadata": {},
   "outputs": [
    {
     "name": "stdout",
     "output_type": "stream",
     "text": [
      "very important meeting\n"
     ]
    }
   ],
   "source": [
    "word = \"We are having a very important meeting\"\n",
    "v_idx = word.find('very')\n",
    "print( word[v_idx:] )"
   ]
  },
  {
   "cell_type": "code",
   "execution_count": 17,
   "metadata": {},
   "outputs": [
    {
     "data": {
      "text/plain": [
       "27"
      ]
     },
     "execution_count": 17,
     "metadata": {},
     "output_type": "execute_result"
    }
   ],
   "source": [
    "word.find('ant')"
   ]
  },
  {
   "cell_type": "code",
   "execution_count": 18,
   "metadata": {},
   "outputs": [
    {
     "data": {
      "text/plain": [
       "'We ore hoving o very importont meeting'"
      ]
     },
     "execution_count": 18,
     "metadata": {},
     "output_type": "execute_result"
    }
   ],
   "source": [
    "word.replace(\"a\", \"o\")"
   ]
  },
  {
   "cell_type": "code",
   "execution_count": 20,
   "metadata": {},
   "outputs": [
    {
     "name": "stdout",
     "output_type": "stream",
     "text": [
      "We are having a very boring meeting\n"
     ]
    }
   ],
   "source": [
    "word = word.replace('important', 'boring')\n",
    "print(word)"
   ]
  },
  {
   "cell_type": "code",
   "execution_count": 21,
   "metadata": {},
   "outputs": [
    {
     "name": "stdout",
     "output_type": "stream",
     "text": [
      "c c a b abc\n"
     ]
    }
   ],
   "source": [
    "data = 'a b a b a b abc'\n",
    "data = data.replace('a b', 'c', 2) # 2 represents the number of replacements\n",
    "print(data)"
   ]
  },
  {
   "cell_type": "code",
   "execution_count": 29,
   "metadata": {},
   "outputs": [
    {
     "name": "stdout",
     "output_type": "stream",
     "text": [
      "10000\n"
     ]
    }
   ],
   "source": [
    "x = '10000'\n",
    "if x.isnumeric():\n",
    "    x = int(x)\n",
    "    print(x)\n",
    "else:\n",
    "    print('Invalid input')"
   ]
  },
  {
   "cell_type": "code",
   "execution_count": 33,
   "metadata": {},
   "outputs": [
    {
     "name": "stdout",
     "output_type": "stream",
     "text": [
      "Valid\n"
     ]
    }
   ],
   "source": [
    "fnm = \"Sameer\"\n",
    "if fnm.isalpha():\n",
    "    print('Valid')\n",
    "else:\n",
    "    print('Invalid')"
   ]
  },
  {
   "cell_type": "code",
   "execution_count": 37,
   "metadata": {},
   "outputs": [
    {
     "name": "stdout",
     "output_type": "stream",
     "text": [
      "who are you?\n"
     ]
    }
   ],
   "source": [
    "name = \"Er. Vikram Prasad\"\n",
    "if name.startswith('Dr'):\n",
    "    print('you are a doctor')\n",
    "elif name.startswith('Mr'):\n",
    "    print('you are a gentleman')\n",
    "else:\n",
    "    print('who are you?')"
   ]
  },
  {
   "attachments": {},
   "cell_type": "markdown",
   "metadata": {},
   "source": [
    "- count\n",
    "- strip\n",
    "- split\n",
    "- join"
   ]
  },
  {
   "cell_type": "code",
   "execution_count": 1,
   "metadata": {},
   "outputs": [
    {
     "name": "stdout",
     "output_type": "stream",
     "text": [
      "3\n"
     ]
    }
   ],
   "source": [
    "msg = \"La La Land\"\n",
    "print(msg.count('La'))"
   ]
  },
  {
   "cell_type": "code",
   "execution_count": 2,
   "metadata": {},
   "outputs": [
    {
     "name": "stdout",
     "output_type": "stream",
     "text": [
      "p occrred 9 times\n"
     ]
    }
   ],
   "source": [
    "msg2 = \"peter piper picked a peck of pickled peppers\"\n",
    "cp = msg2.count('p')\n",
    "print(f'p occrred {cp} times')"
   ]
  },
  {
   "cell_type": "code",
   "execution_count": 5,
   "metadata": {},
   "outputs": [
    {
     "name": "stdout",
     "output_type": "stream",
     "text": [
      "h\n",
      "e\n",
      "l\n",
      "l\n",
      "o\n",
      " \n",
      "w\n",
      "o\n",
      "r\n",
      "d\n"
     ]
    }
   ],
   "source": [
    "for w in \"hello word\":\n",
    "    print(w)"
   ]
  },
  {
   "cell_type": "code",
   "execution_count": 7,
   "metadata": {},
   "outputs": [
    {
     "name": "stdout",
     "output_type": "stream",
     "text": [
      "a 1\n",
      "b 0\n",
      "c 3\n",
      "d 2\n",
      "e 8\n",
      "f 1\n",
      "g 0\n",
      "h 0\n",
      "i 3\n",
      "j 0\n",
      "k 3\n",
      "l 1\n",
      "m 0\n",
      "n 0\n",
      "o 1\n",
      "p 9\n",
      "q 0\n",
      "r 3\n",
      "s 1\n",
      "t 1\n",
      "u 0\n",
      "v 0\n",
      "w 0\n",
      "x 0\n",
      "y 0\n",
      "z 0\n"
     ]
    }
   ],
   "source": [
    "from string import ascii_lowercase\n",
    "for letter in ascii_lowercase:\n",
    "    print(letter, msg2.count(letter))"
   ]
  },
  {
   "cell_type": "code",
   "execution_count": 8,
   "metadata": {},
   "outputs": [
    {
     "name": "stdout",
     "output_type": "stream",
     "text": [
      "a occured 1 times\n",
      "c occured 3 times\n",
      "d occured 2 times\n",
      "e occured 8 times\n",
      "f occured 1 times\n",
      "i occured 3 times\n",
      "k occured 3 times\n",
      "l occured 1 times\n",
      "o occured 1 times\n",
      "p occured 9 times\n",
      "r occured 3 times\n",
      "s occured 1 times\n",
      "t occured 1 times\n"
     ]
    }
   ],
   "source": [
    "for i in ascii_lowercase:\n",
    "    c = msg2.count(i)\n",
    "    if c > 0: \n",
    "        print(f'{i} occured {c} times')"
   ]
  },
  {
   "cell_type": "code",
   "execution_count": 14,
   "metadata": {},
   "outputs": [
    {
     "name": "stdout",
     "output_type": "stream",
     "text": [
      "word=' Ola Amigos  ' & length = 13\n"
     ]
    }
   ],
   "source": [
    "word = \" Ola Amigos  \"\n",
    "print(f'{word=} & length = {len(word)}')"
   ]
  },
  {
   "cell_type": "code",
   "execution_count": 16,
   "metadata": {},
   "outputs": [
    {
     "name": "stdout",
     "output_type": "stream",
     "text": [
      "word='Ola Amigos' & length = 10\n"
     ]
    }
   ],
   "source": [
    "word = word.strip()\n",
    "print(f'{word=} & length = {len(word)}')"
   ]
  },
  {
   "cell_type": "code",
   "execution_count": 26,
   "metadata": {},
   "outputs": [
    {
     "data": {
      "text/plain": [
       "'\\n Raju\\n\\n'"
      ]
     },
     "execution_count": 26,
     "metadata": {},
     "output_type": "execute_result"
    }
   ],
   "source": [
    "'''Hello world\n",
    "of multiline \n",
    "comment\n",
    "'''\n",
    "a = '''\n",
    " Raju\n",
    "\n",
    "'''\n",
    "a"
   ]
  },
  {
   "cell_type": "code",
   "execution_count": 24,
   "metadata": {},
   "outputs": [
    {
     "name": "stdout",
     "output_type": "stream",
     "text": [
      "\n",
      " Raju\n",
      "\n",
      " 8\n",
      "Raju 4\n"
     ]
    }
   ],
   "source": [
    "print(a, len(a))\n",
    "a = a.strip()\n",
    "print(a, len(a))"
   ]
  },
  {
   "cell_type": "code",
   "execution_count": 31,
   "metadata": {},
   "outputs": [
    {
     "name": "stdout",
     "output_type": "stream",
     "text": [
      "zaid 4\n",
      "zaid 4\n",
      "zaid 4\n",
      "zaid 4\n"
     ]
    }
   ],
   "source": [
    "name = input(\"enter name:\")\n",
    "print(name, len(name))\n",
    "print(name.strip(), len(name.strip()))\n",
    "print(name.lstrip(), len(name.lstrip()))\n",
    "print(name.rstrip(), len(name.rstrip()))"
   ]
  },
  {
   "cell_type": "code",
   "execution_count": 29,
   "metadata": {},
   "outputs": [
    {
     "name": "stdout",
     "output_type": "stream",
     "text": [
      "Alex\n",
      "John\n",
      "Mary\n",
      "Sam\n",
      "Tom\n"
     ]
    }
   ],
   "source": [
    "dirty_data = ['Alex ', ' John ', '  Mary ', '  Sam  ', '  Tom  ']\n",
    "for name in dirty_data:\n",
    "    print(name.strip())"
   ]
  },
  {
   "cell_type": "code",
   "execution_count": 37,
   "metadata": {},
   "outputs": [
    {
     "name": "stdout",
     "output_type": "stream",
     "text": [
      "['There', 'is', 'a', 'place', 'with', 'a', 'very', 'long', 'name'] 9\n"
     ]
    }
   ],
   "source": [
    "msg = \"There is a place with a very long name\"\n",
    "words = msg.split()\n",
    "print(words, len(words))"
   ]
  },
  {
   "cell_type": "code",
   "execution_count": 36,
   "metadata": {},
   "outputs": [
    {
     "data": {
      "text/plain": [
       "['Alpha', 'Beta', 'Gamma', 'Delta', 'Epsilon']"
      ]
     },
     "execution_count": 36,
     "metadata": {},
     "output_type": "execute_result"
    }
   ],
   "source": [
    "msg2 = \"Alpha,Beta,Gamma,Delta,Epsilon\"\n",
    "msg2.split(',')"
   ]
  },
  {
   "cell_type": "code",
   "execution_count": 39,
   "metadata": {},
   "outputs": [],
   "source": [
    "msg3 = 'This is Sparta. This is Goa. This is Delhi'"
   ]
  },
  {
   "cell_type": "code",
   "execution_count": 42,
   "metadata": {},
   "outputs": [
    {
     "data": {
      "text/plain": [
       "['This is Sparta', 'This is Goa', 'This is Delhi']"
      ]
     },
     "execution_count": 42,
     "metadata": {},
     "output_type": "execute_result"
    }
   ],
   "source": [
    "msg3.split('. ')"
   ]
  },
  {
   "cell_type": "code",
   "execution_count": 43,
   "metadata": {},
   "outputs": [
    {
     "name": "stdout",
     "output_type": "stream",
     "text": [
      "['Hi', 'there', 'how', 'are', 'you', '?']\n"
     ]
    }
   ],
   "source": [
    "words = ['Hi', 'there', 'how', 'are', 'you', '?']\n",
    "print(words)"
   ]
  },
  {
   "cell_type": "code",
   "execution_count": 50,
   "metadata": {},
   "outputs": [
    {
     "name": "stdout",
     "output_type": "stream",
     "text": [
      "Hi there how are you ?\n"
     ]
    }
   ],
   "source": [
    "msg = ' '.join(words)\n",
    "print(msg)"
   ]
  },
  {
   "attachments": {},
   "cell_type": "markdown",
   "metadata": {},
   "source": [
    "Weekly questions for strings\n",
    "- wap to count all the vowels in a string data\n",
    "- wap to count all the words in a string data\n",
    "- wap to max occuring character in a string data\n",
    "- wap to most common vowel in a string data\n",
    "- remove all the spaces from a string data\n",
    "- remove all puctuations from a string data"
   ]
  },
  {
   "cell_type": "code",
   "execution_count": null,
   "metadata": {},
   "outputs": [],
   "source": []
  }
 ],
 "metadata": {
  "kernelspec": {
   "display_name": "base",
   "language": "python",
   "name": "python3"
  },
  "language_info": {
   "codemirror_mode": {
    "name": "ipython",
    "version": 3
   },
   "file_extension": ".py",
   "mimetype": "text/x-python",
   "name": "python",
   "nbconvert_exporter": "python",
   "pygments_lexer": "ipython3",
   "version": "3.9.13"
  },
  "orig_nbformat": 4,
  "vscode": {
   "interpreter": {
    "hash": "203ec5af3e26acf3e3c83a4183d4b4efe59642f60e2721ccf6236536a59ece46"
   }
  }
 },
 "nbformat": 4,
 "nbformat_minor": 2
}
