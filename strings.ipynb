{
 "cells": [
  {
   "attachments": {},
   "cell_type": "markdown",
   "metadata": {},
   "source": [
    "Basics"
   ]
  },
  {
   "cell_type": "code",
   "execution_count": 4,
   "metadata": {},
   "outputs": [
    {
     "name": "stdout",
     "output_type": "stream",
     "text": [
      "this is \"some kind\" of message\n",
      "This is one line\n",
      "This is another line\n",
      "THis is the last line\n",
      "One is a number, two is another number\n",
      "three is the last number\n"
     ]
    }
   ],
   "source": [
    "a = 'Hello' # string\n",
    "a = \"Hello\" # string\n",
    "word = 'this is \"some kind\" of message'\n",
    "print(word)\n",
    "# multiline string\n",
    "message = '''This is one line\n",
    "This is another line\n",
    "THis is the last line'''\n",
    "\n",
    "message2 = \"\"\"One is a number\n",
    "Two is another number\n",
    "Three is the last number\"\"\"\n",
    "print(message)\n",
    "print(message2)"
   ]
  },
  {
   "attachments": {},
   "cell_type": "markdown",
   "metadata": {},
   "source": [
    "String types"
   ]
  },
  {
   "cell_type": "code",
   "execution_count": 13,
   "metadata": {},
   "outputs": [
    {
     "name": "stdout",
     "output_type": "stream",
     "text": [
      "this is John\n",
      "this is \\na \\nraw \\nstring\n",
      "C:\\Users\\ZAID\\Downloads\\Friends Forever.pptx\n",
      "b'Hello'\n"
     ]
    }
   ],
   "source": [
    "name = 'John'\n",
    "message = f'this is {name}'\n",
    "raw_string = r'this is \\na \\nraw \\nstring'\n",
    "address = r'C:\\Users\\ZAID\\Downloads\\Friends Forever.pptx'\n",
    "binary = b'Hello' # byte string\n",
    "print(message)\n",
    "print(raw_string)\n",
    "print(address)\n",
    "print(binary)"
   ]
  },
  {
   "attachments": {},
   "cell_type": "markdown",
   "metadata": {},
   "source": [
    "string duplication"
   ]
  },
  {
   "cell_type": "code",
   "execution_count": 29,
   "metadata": {},
   "outputs": [
    {
     "data": {
      "text/plain": [
       "'_____________________________________________'"
      ]
     },
     "execution_count": 29,
     "metadata": {},
     "output_type": "execute_result"
    }
   ],
   "source": [
    "\"___\" * 15"
   ]
  },
  {
   "attachments": {},
   "cell_type": "markdown",
   "metadata": {},
   "source": [
    "string properties\n",
    "- strings are *indexed*\n",
    "- strings are *immutable*\n",
    "- strings are *iterable*"
   ]
  },
  {
   "cell_type": "code",
   "execution_count": 36,
   "metadata": {},
   "outputs": [
    {
     "name": "stdout",
     "output_type": "stream",
     "text": [
      "10\n",
      "Z\n",
      "a\n",
      "l\n",
      "i\n",
      "Z a i d\n"
     ]
    }
   ],
   "source": [
    "name = \"Zaid Kamil\"\n",
    "print(len(name))\n",
    "print(name[0]) # first element\n",
    "print(name[1]) # second element\n",
    "print(name[-1]) # last element\n",
    "print(name[-2]) # second last element\n",
    "print(name[0], name[1], name[2], name[3]) # first four elements\n",
    "# print(name[10]) # index out of range\n",
    "# print(name=[10]) # stupidity"
   ]
  },
  {
   "cell_type": "code",
   "execution_count": 39,
   "metadata": {},
   "outputs": [
    {
     "ename": "TypeError",
     "evalue": "'str' object does not support item assignment",
     "output_type": "error",
     "traceback": [
      "\u001b[1;31m---------------------------------------------------------------------------\u001b[0m",
      "\u001b[1;31mTypeError\u001b[0m                                 Traceback (most recent call last)",
      "\u001b[1;32mc:\\Users\\ZAID\\Documents\\coding\\DP DEC PYDS 500 WSS\\strings.ipynb Cell 9\u001b[0m in \u001b[0;36m<cell line: 1>\u001b[1;34m()\u001b[0m\n\u001b[1;32m----> <a href='vscode-notebook-cell:/c%3A/Users/ZAID/Documents/coding/DP%20DEC%20PYDS%20500%20WSS/strings.ipynb#X11sZmlsZQ%3D%3D?line=0'>1</a>\u001b[0m name[\u001b[39m1\u001b[39m] \u001b[39m=\u001b[39m \u001b[39m'\u001b[39m\u001b[39mf\u001b[39m\u001b[39m'\u001b[39m\n",
      "\u001b[1;31mTypeError\u001b[0m: 'str' object does not support item assignment"
     ]
    }
   ],
   "source": [
    "# name[1] = 'f' # strings are immutable and will throw an error"
   ]
  },
  {
   "attachments": {},
   "cell_type": "markdown",
   "metadata": {},
   "source": [
    "slicing\n",
    "`str[start : end : step]`"
   ]
  },
  {
   "cell_type": "code",
   "execution_count": 44,
   "metadata": {},
   "outputs": [
    {
     "name": "stdout",
     "output_type": "stream",
     "text": [
      "S\n",
      "Shake\n",
      "pear\n",
      "William\n"
     ]
    }
   ],
   "source": [
    "name = \"William Shakespeare\"\n",
    "print(name[8])\n",
    "print(name[8:13]) # slicing\n",
    "# pear\n",
    "print(name[-5:-1])\n",
    "print(name[:7]) # from start to 7th index"
   ]
  },
  {
   "cell_type": "code",
   "execution_count": 52,
   "metadata": {},
   "outputs": [
    {
     "name": "stdout",
     "output_type": "stream",
     "text": [
      "Journey\n",
      "Before\n",
      "Destination\n"
     ]
    }
   ],
   "source": [
    "sentence = \"Journey Before Destination\"\n",
    "print(sentence[:7])\n",
    "print(sentence[8:14])\n",
    "print(sentence[15:])"
   ]
  },
  {
   "cell_type": "code",
   "execution_count": 57,
   "metadata": {},
   "outputs": [
    {
     "name": "stdout",
     "output_type": "stream",
     "text": [
      "Ecyts\n",
      "ulpu\n",
      "sutpylcuE\n"
     ]
    }
   ],
   "source": [
    "word = \"Euclyptus\"\n",
    "print(word[::2]) # step size (even indexed elements)\n",
    "print(word[1::2]) # step size (odd indexed elements)\n",
    "print(word[::-1]) # reverse the string"
   ]
  },
  {
   "cell_type": "code",
   "execution_count": 63,
   "metadata": {},
   "outputs": [
    {
     "name": "stdout",
     "output_type": "stream",
     "text": [
      "1000000.00\n"
     ]
    }
   ],
   "source": [
    "amount = \"$1000000.00\"\n",
    "amount = amount[1:]\n",
    "print(amount)"
   ]
  },
  {
   "cell_type": "code",
   "execution_count": 65,
   "metadata": {},
   "outputs": [
    {
     "name": "stdout",
     "output_type": "stream",
     "text": [
      "Vikram\n",
      "Prasad\n"
     ]
    }
   ],
   "source": [
    "name = \"Dr. Vikram Prasad\"\n",
    "fname = name[4:10]\n",
    "lname = name[-6:]\n",
    "print(fname)\n",
    "print(lname)"
   ]
  },
  {
   "cell_type": "code",
   "execution_count": 68,
   "metadata": {},
   "outputs": [
    {
     "name": "stdout",
     "output_type": "stream",
     "text": [
      "python\n"
     ]
    }
   ],
   "source": [
    "word = '__python__' # clean this word\n",
    "print(word[2:-2]) # skip first 2 and last 2 elements"
   ]
  },
  {
   "cell_type": "code",
   "execution_count": null,
   "metadata": {},
   "outputs": [],
   "source": []
  }
 ],
 "metadata": {
  "kernelspec": {
   "display_name": "base",
   "language": "python",
   "name": "python3"
  },
  "language_info": {
   "codemirror_mode": {
    "name": "ipython",
    "version": 3
   },
   "file_extension": ".py",
   "mimetype": "text/x-python",
   "name": "python",
   "nbconvert_exporter": "python",
   "pygments_lexer": "ipython3",
   "version": "3.9.13 | packaged by conda-forge | (main, May 27 2022, 16:50:36) [MSC v.1929 64 bit (AMD64)]"
  },
  "orig_nbformat": 4,
  "vscode": {
   "interpreter": {
    "hash": "203ec5af3e26acf3e3c83a4183d4b4efe59642f60e2721ccf6236536a59ece46"
   }
  }
 },
 "nbformat": 4,
 "nbformat_minor": 2
}
