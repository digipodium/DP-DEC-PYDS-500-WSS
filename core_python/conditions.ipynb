{
 "cells": [
  {
   "cell_type": "code",
   "execution_count": 1,
   "metadata": {},
   "outputs": [
    {
     "name": "stdout",
     "output_type": "stream",
     "text": [
      "value is less than 100\n"
     ]
    }
   ],
   "source": [
    "val = 58\n",
    "if val < 100:\n",
    "    print(\"value is less than 100\")"
   ]
  },
  {
   "cell_type": "code",
   "execution_count": 6,
   "metadata": {},
   "outputs": [],
   "source": [
    "val = 30\n",
    "if val > 100:\n",
    "    print(\"value is greater than 100\")"
   ]
  },
  {
   "cell_type": "code",
   "execution_count": 14,
   "metadata": {},
   "outputs": [
    {
     "name": "stdout",
     "output_type": "stream",
     "text": [
      "You can vote!\n"
     ]
    }
   ],
   "source": [
    "age = 81\n",
    "if age >= 18:\n",
    "    print(\"You can vote!\")\n",
    "else:\n",
    "    print(\"You can't vote!\")"
   ]
  },
  {
   "cell_type": "code",
   "execution_count": 17,
   "metadata": {},
   "outputs": [
    {
     "name": "stdout",
     "output_type": "stream",
     "text": [
      "invalid credentials\n"
     ]
    }
   ],
   "source": [
    "username = input(\"Enter your username: \")\n",
    "password = input(\"Enter your password: \")\n",
    "if username == 'admin' and password == 'root':\n",
    "    print(\"Welcome Admin!\")\n",
    "else:\n",
    "    print(\"invalid credentials\")"
   ]
  },
  {
   "cell_type": "code",
   "execution_count": null,
   "metadata": {},
   "outputs": [],
   "source": [
    "username = input(\"Enter your username: \")\n",
    "password = input(\"Enter your password: \")\n",
    "# nested statements\n",
    "if username =='admin':\n",
    "    if password == 'root':\n",
    "        print(\"Welcome Admin!\")\n",
    "    else:\n",
    "        print(\"invalid password\")\n",
    "else:\n",
    "    print(\"you dont have the permission.\")"
   ]
  },
  {
   "cell_type": "code",
   "execution_count": 20,
   "metadata": {},
   "outputs": [
    {
     "name": "stdout",
     "output_type": "stream",
     "text": [
      "welcome to the system\n"
     ]
    }
   ],
   "source": [
    "# negative statements first # nevernester\n",
    "username = input(\"Enter your username: \")\n",
    "password = input(\"Enter your password: \")\n",
    "e = False\n",
    "if username != 'admin':\n",
    "    print(\"you dont have the permission.\")\n",
    "    e = True\n",
    "if password != 'root':\n",
    "    print(\"invalid password\")\n",
    "    e = True\n",
    "if not e:\n",
    "    print('welcome to the system')"
   ]
  },
  {
   "cell_type": "code",
   "execution_count": 22,
   "metadata": {},
   "outputs": [
    {
     "name": "stdout",
     "output_type": "stream",
     "text": [
      "you dont have the permission.\n"
     ]
    }
   ],
   "source": [
    "username = input(\"Enter your username: \")\n",
    "password = input(\"Enter your password: \")\n",
    "if username != 'admin':\n",
    "    print(\"you dont have the permission.\")\n",
    "elif password != 'root':\n",
    "    print(\"invalid password\")\n",
    "else:\n",
    "    print('welcome to the system')"
   ]
  },
  {
   "cell_type": "code",
   "execution_count": null,
   "metadata": {},
   "outputs": [],
   "source": []
  }
 ],
 "metadata": {
  "kernelspec": {
   "display_name": "base",
   "language": "python",
   "name": "python3"
  },
  "language_info": {
   "codemirror_mode": {
    "name": "ipython",
    "version": 3
   },
   "file_extension": ".py",
   "mimetype": "text/x-python",
   "name": "python",
   "nbconvert_exporter": "python",
   "pygments_lexer": "ipython3",
   "version": "3.9.13"
  },
  "orig_nbformat": 4,
  "vscode": {
   "interpreter": {
    "hash": "203ec5af3e26acf3e3c83a4183d4b4efe59642f60e2721ccf6236536a59ece46"
   }
  }
 },
 "nbformat": 4,
 "nbformat_minor": 2
}
