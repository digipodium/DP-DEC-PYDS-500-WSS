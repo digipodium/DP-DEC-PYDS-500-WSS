{
 "cells": [
  {
   "cell_type": "code",
   "execution_count": 1,
   "metadata": {},
   "outputs": [],
   "source": [
    "from random import randint"
   ]
  },
  {
   "cell_type": "code",
   "execution_count": 13,
   "metadata": {},
   "outputs": [
    {
     "name": "stdout",
     "output_type": "stream",
     "text": [
      "[18, 12, 71, 54, 58, 73, 72, 27, 26, 16, 86, 57, 73, 27, 58, 36, 65, 39, 62, 81, 45, 31, 51, 73, 52]\n"
     ]
    }
   ],
   "source": [
    "x = [] # empty list\n",
    "for i in range(25):\n",
    "    x.append(randint(1, 100))\n",
    "print(x)"
   ]
  },
  {
   "cell_type": "code",
   "execution_count": 11,
   "metadata": {},
   "outputs": [],
   "source": [
    "val = 84\n",
    "if val in x:\n",
    "    x.remove(val)"
   ]
  },
  {
   "cell_type": "code",
   "execution_count": 15,
   "metadata": {},
   "outputs": [
    {
     "data": {
      "text/plain": [
       "19"
      ]
     },
     "execution_count": 15,
     "metadata": {},
     "output_type": "execute_result"
    }
   ],
   "source": [
    "x.index(81)"
   ]
  },
  {
   "cell_type": "code",
   "execution_count": 16,
   "metadata": {},
   "outputs": [
    {
     "data": {
      "text/plain": [
       "57"
      ]
     },
     "execution_count": 16,
     "metadata": {},
     "output_type": "execute_result"
    }
   ],
   "source": [
    "x.pop(11) # index 11"
   ]
  },
  {
   "cell_type": "code",
   "execution_count": 18,
   "metadata": {},
   "outputs": [
    {
     "data": {
      "text/plain": [
       "73"
      ]
     },
     "execution_count": 18,
     "metadata": {},
     "output_type": "execute_result"
    }
   ],
   "source": [
    "x.pop() # last element"
   ]
  },
  {
   "cell_type": "code",
   "execution_count": 20,
   "metadata": {},
   "outputs": [
    {
     "name": "stdout",
     "output_type": "stream",
     "text": [
      "[12, 16, 18, 26, 27, 27, 31, 36, 39, 45, 51, 54, 58, 58, 62, 65, 71, 72, 73, 73, 81, 86]\n"
     ]
    }
   ],
   "source": [
    "x.sort() # ascending order\n",
    "print(x)"
   ]
  },
  {
   "cell_type": "code",
   "execution_count": 21,
   "metadata": {},
   "outputs": [
    {
     "name": "stdout",
     "output_type": "stream",
     "text": [
      "[86, 81, 73, 73, 72, 71, 65, 62, 58, 58, 54, 51, 45, 39, 36, 31, 27, 27, 26, 18, 16, 12]\n"
     ]
    }
   ],
   "source": [
    "x.sort(reverse=True) # descending order\n",
    "print(x)"
   ]
  },
  {
   "cell_type": "code",
   "execution_count": 24,
   "metadata": {},
   "outputs": [
    {
     "data": {
      "text/plain": [
       "2"
      ]
     },
     "execution_count": 24,
     "metadata": {},
     "output_type": "execute_result"
    }
   ],
   "source": [
    "x.count(73)"
   ]
  },
  {
   "cell_type": "code",
   "execution_count": 26,
   "metadata": {},
   "outputs": [
    {
     "data": {
      "text/plain": [
       "[86,\n",
       " 81,\n",
       " 73,\n",
       " 73,\n",
       " 72,\n",
       " 71,\n",
       " 65,\n",
       " 62,\n",
       " 58,\n",
       " 58,\n",
       " 54,\n",
       " 51,\n",
       " 45,\n",
       " 39,\n",
       " 36,\n",
       " 31,\n",
       " 27,\n",
       " 27,\n",
       " 26,\n",
       " 18,\n",
       " 16,\n",
       " 12]"
      ]
     },
     "execution_count": 26,
     "metadata": {},
     "output_type": "execute_result"
    }
   ],
   "source": [
    "x = [1, 2, 3, 4, 5]\n",
    "y = x       # reference\n",
    "z = x.copy() # duplicate\n",
    "y.append(15)\n",
    "x.remove(3)\n",
    "z.append(10)\n",
    "print(x)\n",
    "print(y)\n",
    "print(z)\n",
    "print(x is y) # True\n",
    "print(x is z) # False\n",
    "print(y is z) # False"
   ]
  },
  {
   "cell_type": "code",
   "execution_count": 27,
   "metadata": {},
   "outputs": [
    {
     "name": "stdout",
     "output_type": "stream",
     "text": [
      "5 10\n"
     ]
    }
   ],
   "source": [
    "a = 10\n",
    "b = 5\n",
    "a, b = b, a\n",
    "print(a,b)"
   ]
  },
  {
   "cell_type": "code",
   "execution_count": 28,
   "metadata": {},
   "outputs": [],
   "source": [
    "x.clear()"
   ]
  },
  {
   "cell_type": "code",
   "execution_count": 29,
   "metadata": {},
   "outputs": [
    {
     "data": {
      "text/plain": [
       "[]"
      ]
     },
     "execution_count": 29,
     "metadata": {},
     "output_type": "execute_result"
    }
   ],
   "source": [
    "x"
   ]
  },
  {
   "attachments": {},
   "cell_type": "markdown",
   "metadata": {},
   "source": [
    "questions\n",
    "- wap to count all the number greater than 50 in a list of 100 elements"
   ]
  },
  {
   "cell_type": "code",
   "execution_count": 37,
   "metadata": {},
   "outputs": [
    {
     "name": "stdout",
     "output_type": "stream",
     "text": [
      "[85, 36, 85, 53, 89, 15, 86, 47, 90, 39, 63, 75, 78, 4, 88, 35, 24, 8, 2, 83, 32, 7, 73, 95, 51, 19, 87, 41, 83, 80, 48, 94, 11, 54, 83, 94, 79, 86, 30, 62, 29, 31, 64, 45, 99, 24, 22, 16, 80, 49, 72, 78, 29, 49, 68, 25, 2, 19, 1, 99, 32, 80, 88, 66, 40, 77, 100, 55, 79, 60, 42, 20, 99, 94, 27, 33, 67, 23, 38, 68, 77, 70, 81, 93, 100, 98, 5, 60, 44, 25, 18, 56, 84, 72, 53, 47, 91, 29, 23, 18]\n"
     ]
    }
   ],
   "source": [
    "x= []\n",
    "for _ in range(100):\n",
    "    x.append(randint(1, 100))\n",
    "print(x)"
   ]
  },
  {
   "cell_type": "code",
   "execution_count": 38,
   "metadata": {},
   "outputs": [
    {
     "name": "stdout",
     "output_type": "stream",
     "text": [
      "We have 55 numbers >= 50\n"
     ]
    }
   ],
   "source": [
    "c50 = 0\n",
    "for i in x:\n",
    "    if i >= 50:\n",
    "        c50 += 1\n",
    "print(f'We have {c50} numbers >= 50')"
   ]
  },
  {
   "attachments": {},
   "cell_type": "markdown",
   "metadata": {},
   "source": [
    "- add all the numbers that are less than equal to 25 & display the result"
   ]
  },
  {
   "cell_type": "code",
   "execution_count": 41,
   "metadata": {},
   "outputs": [
    {
     "name": "stdout",
     "output_type": "stream",
     "text": [
      "The sum of numbers <= 25 is 331\n"
     ]
    }
   ],
   "source": [
    "add = 0\n",
    "for i in x:\n",
    "    if i <= 25:\n",
    "        add += i\n",
    "print(f'The sum of numbers <= 25 is {add}')"
   ]
  },
  {
   "attachments": {},
   "cell_type": "markdown",
   "metadata": {},
   "source": [
    "list comprehension"
   ]
  },
  {
   "cell_type": "code",
   "execution_count": 40,
   "metadata": {},
   "outputs": [
    {
     "name": "stdout",
     "output_type": "stream",
     "text": [
      "331\n"
     ]
    }
   ],
   "source": [
    "sub25 = [i for i in x if i <= 25]\n",
    "print(sum(sub25))"
   ]
  },
  {
   "cell_type": "code",
   "execution_count": 43,
   "metadata": {},
   "outputs": [
    {
     "name": "stdout",
     "output_type": "stream",
     "text": [
      "[11, 12, 13, 14, 15]\n"
     ]
    }
   ],
   "source": [
    "# updated\n",
    "x = [1,2,3,4,5]\n",
    "x2= []\n",
    "for i in x:\n",
    "    x2.append(i + 10)\n",
    "print(x2)"
   ]
  },
  {
   "cell_type": "code",
   "execution_count": 47,
   "metadata": {},
   "outputs": [
    {
     "name": "stdout",
     "output_type": "stream",
     "text": [
      "[11, 23, 42, 62, 12, 56, 67, 23, 65]\n",
      "[11, 23, 67, 23, 65]\n"
     ]
    }
   ],
   "source": [
    "# filter\n",
    "y = [11,23,42,62,12,56,67,23,65]\n",
    "yodd = []\n",
    "for i in y:\n",
    "    if i % 2 != 0:\n",
    "        yodd.append(i)\n",
    "print(y)\n",
    "print(yodd)"
   ]
  },
  {
   "cell_type": "code",
   "execution_count": 48,
   "metadata": {},
   "outputs": [
    {
     "name": "stdout",
     "output_type": "stream",
     "text": [
      "[1, 2, 3, 4, 5]\n",
      "[1, 8, 27, 64, 125]\n"
     ]
    }
   ],
   "source": [
    "xcubes = [i**3 for i in x]\n",
    "print(x)\n",
    "print(xcubes)"
   ]
  },
  {
   "attachments": {},
   "cell_type": "markdown",
   "metadata": {},
   "source": [
    "create a list of squares of only even numbers from an existing list"
   ]
  },
  {
   "cell_type": "code",
   "execution_count": 49,
   "metadata": {},
   "outputs": [
    {
     "name": "stdout",
     "output_type": "stream",
     "text": [
      "[1, 2, 3, 4, 5]\n",
      "[4, 16]\n"
     ]
    }
   ],
   "source": [
    "xsqreven = []\n",
    "for i in x:\n",
    "    if i % 2 == 0:\n",
    "        xsqreven.append(i**2)\n",
    "print(x)\n",
    "print(xsqreven)"
   ]
  },
  {
   "cell_type": "code",
   "execution_count": null,
   "metadata": {},
   "outputs": [],
   "source": []
  }
 ],
 "metadata": {
  "kernelspec": {
   "display_name": "base",
   "language": "python",
   "name": "python3"
  },
  "language_info": {
   "codemirror_mode": {
    "name": "ipython",
    "version": 3
   },
   "file_extension": ".py",
   "mimetype": "text/x-python",
   "name": "python",
   "nbconvert_exporter": "python",
   "pygments_lexer": "ipython3",
   "version": "3.9.13"
  },
  "orig_nbformat": 4,
  "vscode": {
   "interpreter": {
    "hash": "203ec5af3e26acf3e3c83a4183d4b4efe59642f60e2721ccf6236536a59ece46"
   }
  }
 },
 "nbformat": 4,
 "nbformat_minor": 2
}
