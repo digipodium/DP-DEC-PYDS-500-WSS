{
 "cells": [
  {
   "attachments": {},
   "cell_type": "markdown",
   "metadata": {},
   "source": [
    "### `data structure`\n",
    "- list (✅)\n",
    "- tuple\n",
    "- set\n",
    "- dictionary (✅)\n",
    "\n",
    "### `Dictionary`\n",
    "- ordered, unindexed, mutable\n",
    "- key-value pairs `{key: value}`\n",
    "- keys are unique, values can be duplicated\n",
    "- keys are immutable, values can be mutable\n",
    "- represented by `{ }`\n",
    "- `dict()` constructor that takes a list of tuples as an argument"
   ]
  },
  {
   "cell_type": "code",
   "execution_count": 1,
   "metadata": {},
   "outputs": [
    {
     "name": "stdout",
     "output_type": "stream",
     "text": [
      "['X91290', 'Mobile Phone', 12858, 1000, '12-12-23', 0, 1, 0]\n"
     ]
    }
   ],
   "source": [
    "x = ['X91290', 'Mobile Phone', 12858, 1000, '12-12-23', 0, 1, 0]\n",
    "print(x)"
   ]
  },
  {
   "cell_type": "code",
   "execution_count": 2,
   "metadata": {},
   "outputs": [
    {
     "name": "stdout",
     "output_type": "stream",
     "text": [
      "{'id': 'X91290', 'type': 'Mobile Phone', 'price': 12858, 'quantity': 1000, 'date': '12-12-23', 'is_available': 0, 'is_delivered': 1, 'is_new': 0}\n"
     ]
    }
   ],
   "source": [
    "x = {\n",
    "    'id': 'X91290',\n",
    "    'type': 'Mobile Phone', \n",
    "    'price': 12858, \n",
    "    'quantity': 1000, \n",
    "    'date': '12-12-23', \n",
    "    'is_available': 0, \n",
    "    'is_delivered': 1, \n",
    "    'is_new': 0\n",
    "}\n",
    "print(x)"
   ]
  },
  {
   "attachments": {},
   "cell_type": "markdown",
   "metadata": {},
   "source": [
    "retreive value by key\n",
    "```\n",
    "dict[key]\n",
    "dict.get(key)\n",
    "```"
   ]
  },
  {
   "cell_type": "code",
   "execution_count": 5,
   "metadata": {},
   "outputs": [
    {
     "name": "stdout",
     "output_type": "stream",
     "text": [
      "12-12-23 12858\n"
     ]
    }
   ],
   "source": [
    "print(x['date'], x['price'])"
   ]
  },
  {
   "cell_type": "code",
   "execution_count": 8,
   "metadata": {},
   "outputs": [],
   "source": [
    "x.get('address') # return None if key not found|"
   ]
  },
  {
   "cell_type": "code",
   "execution_count": 9,
   "metadata": {},
   "outputs": [
    {
     "data": {
      "text/plain": [
       "1000"
      ]
     },
     "execution_count": 9,
     "metadata": {},
     "output_type": "execute_result"
    }
   ],
   "source": [
    "x.get('quantity', 0) # return 0 if key not found"
   ]
  },
  {
   "cell_type": "code",
   "execution_count": 12,
   "metadata": {},
   "outputs": [
    {
     "data": {
      "text/plain": [
       "'X91290'"
      ]
     },
     "execution_count": 12,
     "metadata": {},
     "output_type": "execute_result"
    }
   ],
   "source": [
    "x.get('id', 'not found')"
   ]
  },
  {
   "cell_type": "code",
   "execution_count": 13,
   "metadata": {},
   "outputs": [
    {
     "data": {
      "text/plain": [
       "dict_keys(['id', 'type', 'price', 'quantity', 'date', 'is_available', 'is_delivered', 'is_new'])"
      ]
     },
     "execution_count": 13,
     "metadata": {},
     "output_type": "execute_result"
    }
   ],
   "source": [
    "x.keys()"
   ]
  },
  {
   "cell_type": "code",
   "execution_count": 14,
   "metadata": {},
   "outputs": [
    {
     "data": {
      "text/plain": [
       "dict_values(['X91290', 'Mobile Phone', 12858, 1000, '12-12-23', 0, 1, 0])"
      ]
     },
     "execution_count": 14,
     "metadata": {},
     "output_type": "execute_result"
    }
   ],
   "source": [
    "x.values()"
   ]
  },
  {
   "cell_type": "code",
   "execution_count": 16,
   "metadata": {},
   "outputs": [
    {
     "name": "stdout",
     "output_type": "stream",
     "text": [
      "{1: 'a', 2: 'b', 3: 'c', 4: 'd', 5: 'e'}\n"
     ]
    }
   ],
   "source": [
    "x = [1,2,3,4,5]\n",
    "names = ['a', 'b', 'c', 'd', 'e']\n",
    "info = {} # empty dict\n",
    "for i,j in zip(x,names):\n",
    "    info[i] = j\n",
    "    # dict[key] = value this is how to add key value pair to dict\n",
    "print(info)"
   ]
  },
  {
   "cell_type": "code",
   "execution_count": 17,
   "metadata": {},
   "outputs": [
    {
     "name": "stdout",
     "output_type": "stream",
     "text": [
      "{'Alex': 'Anderson', 'John': 'Edwards', 'Mary': 'Carter', 'Steve': 'Fox'}\n"
     ]
    }
   ],
   "source": [
    "fname = ['Alex','John','Mary','Steve','John','Steve']\n",
    "lname = ['Anderson','Brown','Carter','Davis','Edwards','Fox']\n",
    "\n",
    "names = {} # dict\n",
    "for f,l in zip(fname,lname):\n",
    "    names[f] = l\n",
    "\n",
    "print(names)"
   ]
  },
  {
   "cell_type": "code",
   "execution_count": 18,
   "metadata": {},
   "outputs": [],
   "source": [
    "from pprint import pp"
   ]
  },
  {
   "cell_type": "code",
   "execution_count": 23,
   "metadata": {},
   "outputs": [
    {
     "name": "stdout",
     "output_type": "stream",
     "text": [
      "{'Alex': 'Anderson', 'John': 'Edwards', 'Mary': 'Carter', 'Steve': 'Fox'}\n"
     ]
    }
   ],
   "source": [
    "pp(names)"
   ]
  },
  {
   "cell_type": "code",
   "execution_count": 24,
   "metadata": {},
   "outputs": [
    {
     "name": "stdout",
     "output_type": "stream",
     "text": [
      "{'Bread': 100,\n",
      " 'Milk': 500,\n",
      " 'wheat': 500,\n",
      " 'rice': 2000,\n",
      " 'maize': 1000}\n"
     ]
    }
   ],
   "source": [
    "budget = {}\n",
    "for i in range(5):\n",
    "    name = input('Enter name: ')\n",
    "    amount = int(input('Enter amount: '))\n",
    "    budget[name] = amount\n",
    "pp(budget, width=1)"
   ]
  },
  {
   "cell_type": "code",
   "execution_count": 25,
   "metadata": {},
   "outputs": [
    {
     "data": {
      "text/plain": [
       "dict_items([('Bread', 100), ('Milk', 500), ('wheat', 500), ('rice', 2000), ('maize', 1000)])"
      ]
     },
     "execution_count": 25,
     "metadata": {},
     "output_type": "execute_result"
    }
   ],
   "source": [
    "budget.items()"
   ]
  },
  {
   "cell_type": "code",
   "execution_count": 28,
   "metadata": {},
   "outputs": [
    {
     "name": "stdout",
     "output_type": "stream",
     "text": [
      "Bread 100\n",
      "Milk 500\n",
      "wheat 500\n",
      "rice 2000\n",
      "maize 1000\n"
     ]
    }
   ],
   "source": [
    "for k, v in budget.items():\n",
    "    print(k, v)"
   ]
  },
  {
   "cell_type": "code",
   "execution_count": 27,
   "metadata": {},
   "outputs": [
    {
     "name": "stdout",
     "output_type": "stream",
     "text": [
      "1 a\n",
      "2 b\n",
      "3 c\n",
      "4 d\n",
      "5 e\n"
     ]
    }
   ],
   "source": [
    "for k, v in info.items():\n",
    "    print(k, v)"
   ]
  },
  {
   "cell_type": "code",
   "execution_count": 31,
   "metadata": {},
   "outputs": [
    {
     "name": "stdout",
     "output_type": "stream",
     "text": [
      "total_amount=4100\n"
     ]
    }
   ],
   "source": [
    "total_amount = 0\n",
    "for k, v in budget.items():\n",
    "    total_amount += v\n",
    "print(f'{total_amount=}')"
   ]
  },
  {
   "cell_type": "code",
   "execution_count": 34,
   "metadata": {},
   "outputs": [
    {
     "ename": "KeyError",
     "evalue": "'wheat'",
     "output_type": "error",
     "traceback": [
      "\u001b[1;31m---------------------------------------------------------------------------\u001b[0m",
      "\u001b[1;31mKeyError\u001b[0m                                  Traceback (most recent call last)",
      "\u001b[1;32mc:\\Users\\ZAID\\Documents\\coding\\DP DEC PYDS 500 WSS\\dictionary.ipynb Cell 20\u001b[0m in \u001b[0;36m<cell line: 1>\u001b[1;34m()\u001b[0m\n\u001b[1;32m----> <a href='vscode-notebook-cell:/c%3A/Users/ZAID/Documents/coding/DP%20DEC%20PYDS%20500%20WSS/dictionary.ipynb#X25sZmlsZQ%3D%3D?line=0'>1</a>\u001b[0m budget\u001b[39m.\u001b[39;49mpop(\u001b[39m'\u001b[39;49m\u001b[39mwheat\u001b[39;49m\u001b[39m'\u001b[39;49m)\n",
      "\u001b[1;31mKeyError\u001b[0m: 'wheat'"
     ]
    }
   ],
   "source": [
    "budget.pop('wheat')"
   ]
  },
  {
   "cell_type": "code",
   "execution_count": 33,
   "metadata": {},
   "outputs": [
    {
     "data": {
      "text/plain": [
       "{'a': 0, 'b': 0, 'c': 0}"
      ]
     },
     "execution_count": 33,
     "metadata": {},
     "output_type": "execute_result"
    }
   ],
   "source": [
    "# {}.fromkeys(['a','b','c'], 0)"
   ]
  },
  {
   "attachments": {},
   "cell_type": "markdown",
   "metadata": {},
   "source": [
    "wap to create a dict `CONTACTS` with name and numbers\n",
    "- give option to add a contact\n",
    "- give option to view contact\n",
    "- give option to delete a contact"
   ]
  },
  {
   "cell_type": "code",
   "execution_count": 35,
   "metadata": {},
   "outputs": [
    {
     "name": "stdout",
     "output_type": "stream",
     "text": [
      "1. Add contact\n",
      "2. View contacts\n",
      "3. Delete contact\n",
      "4. Exit\n",
      "Select a number:\n",
      "{'emergency': 112}\n",
      "1. Add contact\n",
      "2. View contacts\n",
      "3. Delete contact\n",
      "4. Exit\n",
      "Select a number:\n",
      "contact saved\n",
      "1. Add contact\n",
      "2. View contacts\n",
      "3. Delete contact\n",
      "4. Exit\n",
      "Select a number:\n",
      "{'emergency': 112,\n",
      " 'Raju': '2193019022'}\n",
      "1. Add contact\n",
      "2. View contacts\n",
      "3. Delete contact\n",
      "4. Exit\n",
      "Select a number:\n",
      "contact deleted\n",
      "1. Add contact\n",
      "2. View contacts\n",
      "3. Delete contact\n",
      "4. Exit\n",
      "Select a number:\n",
      "contact deleted\n",
      "1. Add contact\n",
      "2. View contacts\n",
      "3. Delete contact\n",
      "4. Exit\n",
      "Select a number:\n",
      "{'Raju': '2193019022'}\n",
      "1. Add contact\n",
      "2. View contacts\n",
      "3. Delete contact\n",
      "4. Exit\n",
      "Select a number:\n"
     ]
    }
   ],
   "source": []
  },
  {
   "attachments": {},
   "cell_type": "markdown",
   "metadata": {},
   "source": [
    "1. WAP to combine two dictionary adding values for common keys.\n",
    "\n",
    "`d1 = {'a': 100, 'b': 200, 'c':300}`\n",
    "\n",
    "`d2 = {'a': 300, 'b': 200, 'd':400}`\n",
    "\n",
    "output\n",
    "\n",
    "`ans = {'a': 400, 'b': 400, 'd': 400, 'c': 300})`\n",
    "\n",
    "---\n",
    "\n",
    "2. WAP to create a dictionary from a string. Track the count of the letters from the string.\n",
    "\n",
    "example: `input_string = 'apple'`\n",
    "\n",
    "result = `{'a': 1, 'p': 2, 'l': 1, 'e': 1}`\n",
    "\n",
    "---\n",
    "\n",
    "3. WAP drop empty Items from a given Dictionary.\n",
    "\n",
    "Original Dictionary:\n",
    "`{'c1': 'Red', 'c2': 'Green', 'c3': None, 'c4': None}`\n",
    "\n",
    "Result after dropping empty values:\n",
    "`{'c1': 'Red', 'c2': 'Green'}`"
   ]
  },
  {
   "cell_type": "markdown",
   "metadata": {},
   "source": []
  }
 ],
 "metadata": {
  "kernelspec": {
   "display_name": "base",
   "language": "python",
   "name": "python3"
  },
  "language_info": {
   "codemirror_mode": {
    "name": "ipython",
    "version": 3
   },
   "file_extension": ".py",
   "mimetype": "text/x-python",
   "name": "python",
   "nbconvert_exporter": "python",
   "pygments_lexer": "ipython3",
   "version": "3.9.13 | packaged by conda-forge | (main, May 27 2022, 16:50:36) [MSC v.1929 64 bit (AMD64)]"
  },
  "orig_nbformat": 4,
  "vscode": {
   "interpreter": {
    "hash": "203ec5af3e26acf3e3c83a4183d4b4efe59642f60e2721ccf6236536a59ece46"
   }
  }
 },
 "nbformat": 4,
 "nbformat_minor": 2
}
